{
 "cells": [
  {
   "cell_type": "code",
   "execution_count": 1,
   "metadata": {
    "collapsed": true,
    "ExecuteTime": {
     "end_time": "2023-07-28T05:56:38.665028400Z",
     "start_time": "2023-07-28T05:56:37.320742500Z"
    }
   },
   "outputs": [],
   "source": [
    "# vollständiger Import\n",
    "import highway_env\n",
    "\n",
    "# Alias Import\n",
    "import gymnasium as gym\n",
    "\n",
    "# Spezifischer Import\n",
    "from IPython import display\n",
    "from matplotlib import pyplot as plt, animation\n",
    "from pathlib import Path\n",
    "from pyvirtualdisplay import Display\n",
    "from stable_baselines3 import DQN, PPO\n",
    "from stable_baselines3.common.vec_env import DummyVecEnv\n",
    "from stable_baselines3.common.monitor import Monitor\n",
    "from stable_baselines3.common.callbacks import CheckpointCallback, EvalCallback"
   ]
  },
  {
   "cell_type": "code",
   "execution_count": 2,
   "outputs": [],
   "source": [
    "%matplotlib inline"
   ],
   "metadata": {
    "collapsed": false,
    "ExecuteTime": {
     "end_time": "2023-07-28T05:56:48.687115500Z",
     "start_time": "2023-07-28T05:56:48.667243100Z"
    }
   }
  },
  {
   "cell_type": "code",
   "execution_count": 3,
   "outputs": [],
   "source": [
    "%load_ext tensorboard"
   ],
   "metadata": {
    "collapsed": false,
    "ExecuteTime": {
     "end_time": "2023-07-28T05:56:49.439302400Z",
     "start_time": "2023-07-28T05:56:49.429189900Z"
    }
   }
  },
  {
   "cell_type": "code",
   "execution_count": 4,
   "outputs": [],
   "source": [
    "# Umgebung\n",
    "ENVIRONMENT_NAME: str = \"highway-v0\"\n",
    "ENVIRONMENT_RENDER_MODE: str = \"rgb_array\""
   ],
   "metadata": {
    "collapsed": false,
    "ExecuteTime": {
     "end_time": "2023-07-28T05:57:13.853135400Z",
     "start_time": "2023-07-28T05:57:13.842559300Z"
    }
   }
  },
  {
   "cell_type": "code",
   "execution_count": 5,
   "outputs": [],
   "source": [
    "# Modelle\n",
    "BASE_MODEL_POLICY: str = \"MlpPolicy\"\n",
    "BASE_MODEL_LIB: str = \"stable_baselines3\"\n",
    "DQN_MODEL_TYPE: str = \"dqn\"\n",
    "PPO_MODEL_TYPE: str = \"ppo\"\n",
    "\n",
    "DQN_MODEL_VERSION: str = \"v3\"\n",
    "PPO_MODEL_VERSION: str = \"v1\""
   ],
   "metadata": {
    "collapsed": false,
    "ExecuteTime": {
     "end_time": "2023-07-28T05:57:15.022084500Z",
     "start_time": "2023-07-28T05:57:15.009007200Z"
    }
   }
  },
  {
   "cell_type": "code",
   "execution_count": 6,
   "outputs": [],
   "source": [
    "# Definition von allgemeinen Pfaden\n",
    "CURRENT_FILE_DIR_PATH = Path().absolute()\n",
    "REPOSITORY_PATH = CURRENT_FILE_DIR_PATH.parent.absolute()\n",
    "LOG_BASE_PATH = REPOSITORY_PATH.joinpath(\"logs\", BASE_MODEL_LIB)\n",
    "VIDEOS_BASE_PATH = REPOSITORY_PATH.joinpath(\"videos\", BASE_MODEL_LIB)\n",
    "MODELS_BASE_PATH = REPOSITORY_PATH.joinpath(\"highway_models\")"
   ],
   "metadata": {
    "collapsed": false,
    "ExecuteTime": {
     "end_time": "2023-07-28T05:57:27.052988Z",
     "start_time": "2023-07-28T05:57:27.040098300Z"
    }
   }
  },
  {
   "cell_type": "code",
   "execution_count": 7,
   "outputs": [],
   "source": [
    "# DQN\n",
    "LOG_DQN_PATH = LOG_BASE_PATH.joinpath(DQN_MODEL_TYPE)\n",
    "VIDEOS_DQN_PATH = VIDEOS_BASE_PATH.joinpath(DQN_MODEL_TYPE)\n",
    "MODELS_DQN_PATH = MODELS_BASE_PATH.joinpath(DQN_MODEL_TYPE, BASE_MODEL_LIB, DQN_MODEL_VERSION)"
   ],
   "metadata": {
    "collapsed": false,
    "ExecuteTime": {
     "end_time": "2023-07-28T05:57:32.741823Z",
     "start_time": "2023-07-28T05:57:32.730727Z"
    }
   }
  },
  {
   "cell_type": "code",
   "execution_count": 8,
   "outputs": [],
   "source": [
    "# PPO\n",
    "LOG_PPO_PATH = LOG_BASE_PATH.joinpath(PPO_MODEL_TYPE)\n",
    "VIDEOS_PPO_PATH = VIDEOS_BASE_PATH.joinpath(PPO_MODEL_TYPE)\n",
    "MODELS_PPO_PATH = MODELS_BASE_PATH.joinpath(PPO_MODEL_TYPE, BASE_MODEL_LIB, PPO_MODEL_VERSION)"
   ],
   "metadata": {
    "collapsed": false,
    "ExecuteTime": {
     "end_time": "2023-07-28T05:57:39.252581200Z",
     "start_time": "2023-07-28T05:57:39.226498800Z"
    }
   }
  },
  {
   "cell_type": "code",
   "execution_count": 9,
   "outputs": [
    {
     "name": "stderr",
     "output_type": "stream",
     "text": [
      "/home/tkister/miniconda3/envs/Hand-on-Reinforced-Learning/lib/python3.10/site-packages/gymnasium/utils/passive_env_checker.py:42: UserWarning: \u001B[33mWARN: A Box observation space has an unconventional shape (neither an image, nor a 1D vector). We recommend flattening the observation to have only a 1D vector or use a custom policy to properly process the data. Actual observation shape: (5, 5)\u001B[0m\n",
      "  logger.warn(\n"
     ]
    }
   ],
   "source": [
    "# Definition der Visualisationsumgebung\n",
    "vis_env = gym.make(ENVIRONMENT_NAME, render_mode=ENVIRONMENT_RENDER_MODE)"
   ],
   "metadata": {
    "collapsed": false,
    "ExecuteTime": {
     "end_time": "2023-07-28T05:58:14.053549900Z",
     "start_time": "2023-07-28T05:58:13.709926800Z"
    }
   }
  },
  {
   "cell_type": "code",
   "execution_count": 13,
   "outputs": [],
   "source": [
    "def prepare_env(\n",
    "        gymnasium_env: gym.Env,\n",
    "        log_dir_path: Path,\n",
    "        print_info: bool = False) -> gym.Env:\n",
    "    \"\"\"\n",
    "    Funktion zum Vorbereiten der Gymnasiumsumgebungen für das Training mit StableBaselines3 (unabhängig vom Agenten)\n",
    "    :param gymnasium_env: Umgebung welche verwendet werden soll\n",
    "    :param log_dir_path: Pfad, auf welchen die Logs gespeichert werden sollen\n",
    "    :param print_info: Boolean, welcher aussagt, ob die Information ausgegeben werden soll\n",
    "    :return: vorbereitete Umgebung\n",
    "    \"\"\"\n",
    "    # Verpacken Sie die Umgebung mit einem Monitor-Wrapper\n",
    "    env = Monitor(gymnasium_env, str(log_dir_path))\n",
    "\n",
    "    # Vektorisieren Sie die Umgebung (notwendig für Stable Baselines3)\n",
    "    env = DummyVecEnv([lambda: env])\n",
    "    if not print_info:\n",
    "        return env\n",
    "    else:\n",
    "        print(f'<Info> : Log will be written to the following dir {log_dir_path.absolute()}')"
   ],
   "metadata": {
    "collapsed": false,
    "ExecuteTime": {
     "end_time": "2023-07-28T06:02:13.703243500Z",
     "start_time": "2023-07-28T06:02:13.654420800Z"
    }
   }
  },
  {
   "cell_type": "code",
   "execution_count": 39,
   "outputs": [],
   "source": [
    "# Lade das DQN-Modell\n",
    "dqn_model = DQN.load(MODELS_DQN_PATH.joinpath(\"model_dqn_21000_steps.zip\"))"
   ],
   "metadata": {
    "collapsed": false,
    "ExecuteTime": {
     "end_time": "2023-07-28T06:08:42.065012Z",
     "start_time": "2023-07-28T06:08:42.038210Z"
    }
   }
  },
  {
   "cell_type": "code",
   "execution_count": 90,
   "outputs": [],
   "source": [
    "# Lade das PPO-Modell\n",
    "ppo_best = PPO.load(MODELS_PPO_PATH.joinpath(\"best_model.zip\"))\n",
    "ppo_model = PPO.load(MODELS_PPO_PATH.joinpath(\"ppo_model_27000_steps.zip\"))"
   ],
   "metadata": {
    "collapsed": false,
    "ExecuteTime": {
     "end_time": "2023-07-28T08:30:38.794246Z",
     "start_time": "2023-07-28T08:30:38.705065600Z"
    }
   }
  },
  {
   "cell_type": "code",
   "execution_count": 44,
   "outputs": [],
   "source": [
    "vec_env = prepare_env(vis_env, LOG_PPO_PATH)"
   ],
   "metadata": {
    "collapsed": false,
    "ExecuteTime": {
     "end_time": "2023-07-28T06:12:39.728558300Z",
     "start_time": "2023-07-28T06:12:39.705474800Z"
    }
   }
  },
  {
   "cell_type": "code",
   "execution_count": 92,
   "outputs": [
    {
     "name": "stdout",
     "output_type": "stream",
     "text": [
      "(array([1]), None)\n",
      "(array([4]), None)\n",
      "(array([4]), None)\n",
      "(array([4]), None)\n",
      "(array([4]), None)\n",
      "(array([4]), None)\n",
      "(array([4]), None)\n",
      "(array([4]), None)\n",
      "(array([4]), None)\n",
      "(array([4]), None)\n",
      "(array([4]), None)\n",
      "(array([4]), None)\n",
      "(array([4]), None)\n",
      "(array([4]), None)\n",
      "(array([4]), None)\n",
      "(array([4]), None)\n",
      "(array([4]), None)\n",
      "(array([4]), None)\n",
      "(array([4]), None)\n",
      "(array([1]), None)\n",
      "(array([4]), None)\n",
      "(array([4]), None)\n",
      "(array([4]), None)\n",
      "(array([4]), None)\n",
      "(array([4]), None)\n",
      "(array([4]), None)\n",
      "(array([1]), None)\n",
      "(array([4]), None)\n",
      "(array([4]), None)\n",
      "(array([4]), None)\n",
      "(array([4]), None)\n",
      "(array([4]), None)\n",
      "(array([4]), None)\n",
      "(array([4]), None)\n",
      "(array([3]), None)\n",
      "(array([1]), None)\n",
      "(array([1]), None)\n",
      "(array([4]), None)\n",
      "(array([4]), None)\n",
      "(array([4]), None)\n"
     ]
    }
   ],
   "source": [
    "obs = vec_env.reset()\n",
    "done = truncated = False\n",
    "while not (done or truncated):\n",
    "    action = ppo_model.predict(obs)\n",
    "    print(action)\n",
    "    obs, reward, done, _ = vec_env.step(action)\n",
    "    vec_env.render()"
   ],
   "metadata": {
    "collapsed": false,
    "ExecuteTime": {
     "end_time": "2023-07-28T08:31:11.518022400Z",
     "start_time": "2023-07-28T08:30:59.036558500Z"
    }
   }
  }
 ],
 "metadata": {
  "kernelspec": {
   "display_name": "Python 3",
   "language": "python",
   "name": "python3"
  },
  "language_info": {
   "codemirror_mode": {
    "name": "ipython",
    "version": 2
   },
   "file_extension": ".py",
   "mimetype": "text/x-python",
   "name": "python",
   "nbconvert_exporter": "python",
   "pygments_lexer": "ipython2",
   "version": "2.7.6"
  }
 },
 "nbformat": 4,
 "nbformat_minor": 0
}
